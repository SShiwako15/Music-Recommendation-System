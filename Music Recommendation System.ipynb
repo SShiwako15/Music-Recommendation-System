{
 "cells": [
  {
   "cell_type": "markdown",
   "id": "92a46ba9-6b17-44a9-9013-2f98028cadd5",
   "metadata": {},
   "source": [
    "# Music Recommendation System\n",
    "\n",
    "### Music Recommendation System using Machine learning\n",
    "\n",
    "Recommends music based on previous choices."
   ]
  },
  {
   "cell_type": "code",
   "execution_count": null,
   "id": "ea838896-7d49-4c22-8e25-e0f787cebc9e",
   "metadata": {},
   "outputs": [],
   "source": []
  }
 ],
 "metadata": {
  "kernelspec": {
   "display_name": "Python 3 (ipykernel)",
   "language": "python",
   "name": "python3"
  },
  "language_info": {
   "codemirror_mode": {
    "name": "ipython",
    "version": 3
   },
   "file_extension": ".py",
   "mimetype": "text/x-python",
   "name": "python",
   "nbconvert_exporter": "python",
   "pygments_lexer": "ipython3",
   "version": "3.12.4"
  }
 },
 "nbformat": 4,
 "nbformat_minor": 5
}
